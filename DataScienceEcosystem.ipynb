{
  "metadata": {
    "kernelspec": {
      "name": "python",
      "display_name": "Python (Pyodide)",
      "language": "python"
    },
    "language_info": {
      "codemirror_mode": {
        "name": "python",
        "version": 3
      },
      "file_extension": ".py",
      "mimetype": "text/x-python",
      "name": "python",
      "nbconvert_exporter": "python",
      "pygments_lexer": "ipython3",
      "version": "3.8"
    }
  },
  "nbformat_minor": 5,
  "nbformat": 4,
  "cells": [
    {
      "id": "622dd780-f723-4d86-a66e-6aa1a2b71b88",
      "cell_type": "markdown",
      "source": "# H1: Data Science Tools and Ecosystem",
      "metadata": {}
    },
    {
      "id": "00ad95d0-95d2-49d9-b563-6224a2a38fde",
      "cell_type": "markdown",
      "source": "In this notebook, Data Science Tools and Ecosystem are summarized.",
      "metadata": {}
    },
    {
      "id": "9272715d-9a4f-4a6d-a006-025e45a647c2",
      "cell_type": "markdown",
      "source": "Some of the popular languages that Data Scientists use are:\n1. Python\n2. R\n3. Java\n4. Julia\n5. Scala\n6. JavaScript",
      "metadata": {}
    },
    {
      "id": "9e7b572e-52b3-451b-82ff-1c94c7d9c2b2",
      "cell_type": "markdown",
      "source": "Some of the commonly used libraries used by Data Scientists include:\n1. Pandas\n2. NumPy\n3. SciPy\n4. matplotlib",
      "metadata": {}
    },
    {
      "id": "c259b69d-f431-4d6d-ba6c-f2c10f12eb61",
      "cell_type": "markdown",
      "source": "| Data Science Tools |\n| ------------------ |\n| VS Code |\n| Jupyter Notebook |\n| Jupyter Lite |\n| RStudio | \n",
      "metadata": {}
    },
    {
      "id": "4867e279-c1da-4f3a-8799-e662066adeab",
      "cell_type": "markdown",
      "source": "### Below are a few examples of evaluating arithmetic expressions in Python\n",
      "metadata": {}
    },
    {
      "id": "c9d4eef5-0ba7-44fe-ac0d-c6c6871c3065",
      "cell_type": "code",
      "source": "# This a simple arithmetic expression to mutiply then add integers\n(3*4)+5",
      "metadata": {
        "trusted": true
      },
      "outputs": [
        {
          "execution_count": 1,
          "output_type": "execute_result",
          "data": {
            "text/plain": "17"
          },
          "metadata": {}
        }
      ],
      "execution_count": 1
    },
    {
      "id": "ad0dad40-1840-4df1-a853-3681baf1012b",
      "cell_type": "markdown",
      "source": "# This will convert 200 minutes to hours by diving by 60\nminutes=200\nhours=(minutes/60)\nprint(hours)",
      "metadata": {}
    },
    {
      "id": "711ac3ba-e97d-421a-9033-d8e46ba7015a",
      "cell_type": "markdown",
      "source": "**Objectives:\n* Popular languages used in data science\n* Open source IDEs used in data science\n* Working with Arithmetic expressions\n* Adding comments\n* Working with markdowns\n",
      "metadata": {}
    },
    {
      "id": "70718c51-4d06-45d1-a7c6-058fbcb20903",
      "cell_type": "markdown",
      "source": "**Objectives:**",
      "metadata": {}
    },
    {
      "id": "1538585d-fcec-4001-9808-0ca237cf0809",
      "cell_type": "markdown",
      "source": "**Objectives**\n* Popular languages used in data science\n* Open source IDEs used in data science\n* Working with Arithmetic expressions\n* Adding comments\n* Working with markdowns",
      "metadata": {}
    },
    {
      "id": "2fd02c66-94bc-422f-b120-38eeca5f2d74",
      "cell_type": "markdown",
      "source": "## Author\nprint(Sudipta Dhal)",
      "metadata": {}
    },
    {
      "id": "df0da460-5954-4029-8959-b3c2c22c5199",
      "cell_type": "markdown",
      "source": "## Author\nSudipta Dhal",
      "metadata": {}
    },
    {
      "id": "4699c9aa-089f-4f75-b789-ce689df3774c",
      "cell_type": "code",
      "source": "",
      "metadata": {
        "trusted": true
      },
      "outputs": [],
      "execution_count": null
    }
  ]
}