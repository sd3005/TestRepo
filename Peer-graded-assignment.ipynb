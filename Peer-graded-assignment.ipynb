{
  "metadata": {
    "kernelspec": {
      "name": "python",
      "display_name": "Python (Pyodide)",
      "language": "python"
    },
    "language_info": {
      "codemirror_mode": {
        "name": "python",
        "version": 3
      },
      "file_extension": ".py",
      "mimetype": "text/x-python",
      "name": "python",
      "nbconvert_exporter": "python",
      "pygments_lexer": "ipython3",
      "version": "3.8"
    }
  },
  "nbformat_minor": 5,
  "nbformat": 4,
  "cells": [
    {
      "id": "3d2a6960-681b-4228-8696-80a11d1a6ccd",
      "cell_type": "markdown",
      "source": "### Explore the Markdown and code expressions for data science",
      "metadata": {}
    },
    {
      "id": "f76fb993-8eea-44e5-85f8-39c9fedf5b92",
      "cell_type": "markdown",
      "source": "Introduction to Datascience basics with Jupyter notebook",
      "metadata": {}
    },
    {
      "id": "7c494c68-3851-409b-9e93-919ee39a53a2",
      "cell_type": "markdown",
      "source": "##### List of Programming languages used in data science\n+ Python\n+ R\n+ Scala\n+ Julia\n+ Ruby",
      "metadata": {}
    },
    {
      "id": "f922eb42-58b3-4f27-9ce3-e060286dd0b4",
      "cell_type": "markdown",
      "source": "##### List of libraries used in data science\n+ Pandas\n+ Numpy\n+ Matplotlib\n+ Scipy\n+ ggplot\n",
      "metadata": {}
    },
    {
      "id": "70c18a15-da55-4adb-bded-7c4ee83b27c7",
      "cell_type": "markdown",
      "source": "##### List of Tools used in data science\n+ Jupyter Notebook\n+ Machine Learning\n+ Excel\n+ TensorFlow\n+ Apache spark\n+ SQL\n+ NoSQL\n+ Matplottlib\n",
      "metadata": {}
    },
    {
      "id": "911cf2e3-36d2-49e9-a89c-eff6b3d39623",
      "cell_type": "code",
      "source": "#Arithmetic expression example\n(3+9)*8",
      "metadata": {
        "trusted": true
      },
      "outputs": [
        {
          "execution_count": 1,
          "output_type": "execute_result",
          "data": {
            "text/plain": "96"
          },
          "metadata": {}
        }
      ],
      "execution_count": 1
    },
    {
      "id": "f007e086-5ed1-4c48-b214-116935fa1cde",
      "cell_type": "code",
      "source": "#Code to multiply and add numbers\nx=3\ny=4\n(x*y)+(x+y)\n",
      "metadata": {
        "trusted": true
      },
      "outputs": [
        {
          "execution_count": 3,
          "output_type": "execute_result",
          "data": {
            "text/plain": "19"
          },
          "metadata": {}
        }
      ],
      "execution_count": 3
    },
    {
      "id": "e1459148-beaf-479b-805a-feb5c361ff75",
      "cell_type": "code",
      "source": "min=200\n(min/60)",
      "metadata": {
        "trusted": true
      },
      "outputs": [
        {
          "execution_count": 5,
          "output_type": "execute_result",
          "data": {
            "text/plain": "3.3333333333333335"
          },
          "metadata": {}
        }
      ],
      "execution_count": 5
    },
    {
      "id": "8d1ab7e2-b142-41d0-9bd8-f1e7207441f2",
      "cell_type": "markdown",
      "source": "##### Objectives\n* Learn basics of Jupyter notebook\n* Basics of Data science\n* Languages used\n* DE used\n* Libraries used\n* Data visualization basics\n* Version control tool basics\n* Containerization tools\n* Practice more to become an enthsiast Data scientist",
      "metadata": {}
    },
    {
      "id": "9b8cc4ae-8414-4939-b285-3840f1fbfff4",
      "cell_type": "markdown",
      "source": "###### Author\nSudipta Dhal",
      "metadata": {}
    },
    {
      "id": "f13da340-049d-4b36-b5b6-c6a653fe1d2c",
      "cell_type": "markdown",
      "source": "",
      "metadata": {}
    }
  ]
}